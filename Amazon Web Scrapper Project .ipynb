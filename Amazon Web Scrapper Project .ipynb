{
 "cells": [
  {
   "cell_type": "code",
   "execution_count": 1,
   "id": "47a9d7e1",
   "metadata": {},
   "outputs": [],
   "source": [
    "# import libraries \n",
    "\n",
    "from bs4 import BeautifulSoup\n",
    "import requests\n",
    "import time\n",
    "import datetime\n",
    "\n",
    "import smtplib"
   ]
  },
  {
   "cell_type": "code",
   "execution_count": 30,
   "id": "b490ae59",
   "metadata": {},
   "outputs": [
    {
     "name": "stdout",
     "output_type": "stream",
     "text": [
      "Echo Dot (5th generation, 2022 release) smart Bluetooth speaker with Alexa | Charcoal\n",
      "34.99\n",
      "10,447\n"
     ]
    }
   ],
   "source": [
    "# Connect to Website and pull in data\n",
    "\n",
    "URL = 'https://www.amazon.co.uk/echo-dot-2022/dp/B09B96TG33/?_encoding=UTF8&_ref=dlx_gate_dd_dcl_tlt_3d63637d_dt&pd_rd_w=el4f5&content-id=amzn1.sym.8b6099b1-761c-40a2-87e0-d9ab1498643c&pf_rd_p=8b6099b1-761c-40a2-87e0-d9ab1498643c&pf_rd_r=5B2XG6HMXEPN4M2RTYMV&pd_rd_wg=BtCr4&pd_rd_r=25645d63-0443-482e-b759-f031befdcc41&ref_=pd_gw_unk'\n",
    "headers = {\"User-Agent\": \"Mozilla/5.0 (Windows NT 10.0; Win64; x64) AppleWebKit/537.36 (KHTML, like Gecko) Chrome/114.0.0.0 Safari/537.36\", \"Accept-Encoding\":\"gzip, deflate\", \"Accept\":\"text/html,application/xhtml+xml,application/xml;q=0.9,*/*;q=0.8\", \"DNT\":\"1\",\"Connection\":\"close\", \"Upgrade-Insecure-Requests\":\"1\"}\n",
    "\n",
    "page = requests.get(URL, headers=headers)\n",
    "\n",
    "soup1 = BeautifulSoup(page.content, \"html.parser\")\n",
    "#print(soup1)\n",
    "\n",
    "soup2 = BeautifulSoup(soup1.prettify(), \"html.parser\")\n",
    "#print(soup2)\n",
    "\n",
    "title = soup2.find(id='productTitle').get_text()\n",
    "title = title.strip()\n",
    "print(title)\n",
    "\n",
    "price_element = soup2.find(\"span\", class_=\"a-offscreen\")\n",
    "price = price_element.text.strip()[1:]\n",
    "print(price)\n",
    "\n",
    "rating = soup2.find(id='acrCustomerReviewText').get_text()\n",
    "rating = rating.strip()[:6]\n",
    "print(rating)\n"
   ]
  },
  {
   "cell_type": "code",
   "execution_count": 32,
   "id": "00661e86",
   "metadata": {},
   "outputs": [
    {
     "name": "stdout",
     "output_type": "stream",
     "text": [
      "2023-06-02\n"
     ]
    }
   ],
   "source": [
    "# Create a Timestamp for your output to track when data was collected\n",
    "\n",
    "import datetime\n",
    "\n",
    "today = datetime.date.today()\n",
    "\n",
    "print(today)"
   ]
  },
  {
   "cell_type": "code",
   "execution_count": 34,
   "id": "80f368b2",
   "metadata": {},
   "outputs": [],
   "source": [
    "# Create CSV and write headers and data into the file\n",
    "\n",
    "import csv \n",
    "\n",
    "header = ['Title','Price', 'Rating', 'Date']\n",
    "data = [title, price, rating, today]\n",
    "\n",
    "\n",
    "with open('AmazonWebScraperDataset.csv', 'w', newline='', encoding='UTF8') as f:\n",
    "    writer = csv.writer(f)\n",
    "    writer.writerow(header)\n",
    "    writer.writerow(data)"
   ]
  },
  {
   "cell_type": "code",
   "execution_count": 36,
   "id": "5ca97deb",
   "metadata": {},
   "outputs": [
    {
     "name": "stdout",
     "output_type": "stream",
     "text": [
      "                                                                                   Title  Price  Rating        Date\n",
      "0  Echo Dot (5th generation, 2022 release) smart Bluetooth speaker with Alexa | Charcoal  34.99  10,447  2023-06-02\n"
     ]
    }
   ],
   "source": [
    "import pandas as pd\n",
    "\n",
    "dataframe = pd.read_csv(r'C:\\Users\\Tanvi\\Desktop\\Project\\AmazonWebScraperDataset.csv')\n",
    "\n",
    "pd.set_option('display.max_columns', None)  # Display all columns\n",
    "pd.set_option('display.expand_frame_repr', False)  # Display DataFrame without line wrapping\n",
    "pd.set_option('display.max_colwidth', None)  # Display full contents of each cell\n",
    "\n",
    "\n",
    "print(dataframe)"
   ]
  },
  {
   "cell_type": "code",
   "execution_count": 37,
   "id": "08eaf73f",
   "metadata": {},
   "outputs": [],
   "source": [
    "#Now we are appending data to the csv\n",
    "\n",
    "with open('AmazonWebScraperDataset.csv', 'a+', newline='', encoding='UTF8') as f:\n",
    "    writer = csv.writer(f)\n",
    "    writer.writerow(data)"
   ]
  },
  {
   "cell_type": "code",
   "execution_count": 2,
   "id": "9aa09645",
   "metadata": {},
   "outputs": [],
   "source": [
    "#Combine all of the above code into one function\n",
    "\n",
    "\n",
    "def check_price():\n",
    "    URL = 'https://www.amazon.co.uk/echo-dot-2022/dp/B09B96TG33/?_encoding=UTF8&_ref=dlx_gate_dd_dcl_tlt_3d63637d_dt&pd_rd_w=el4f5&content-id=amzn1.sym.8b6099b1-761c-40a2-87e0-d9ab1498643c&pf_rd_p=8b6099b1-761c-40a2-87e0-d9ab1498643c&pf_rd_r=5B2XG6HMXEPN4M2RTYMV&pd_rd_wg=BtCr4&pd_rd_r=25645d63-0443-482e-b759-f031befdcc41&ref_=pd_gw_unk'\n",
    "    headers = {\"User-Agent\": \"Mozilla/5.0 (Windows NT 10.0; Win64; x64) AppleWebKit/537.36 (KHTML, like Gecko) Chrome/114.0.0.0 Safari/537.36\", \"Accept-Encoding\":\"gzip, deflate\", \"Accept\":\"text/html,application/xhtml+xml,application/xml;q=0.9,*/*;q=0.8\", \"DNT\":\"1\",\"Connection\":\"close\", \"Upgrade-Insecure-Requests\":\"1\"}\n",
    "\n",
    "    page = requests.get(URL, headers=headers)\n",
    "\n",
    "    soup1 = BeautifulSoup(page.content, \"html.parser\")\n",
    "    #print(soup1)\n",
    "\n",
    "    soup2 = BeautifulSoup(soup1.prettify(), \"html.parser\")\n",
    "    #print(soup2)\n",
    "\n",
    "    title = soup2.find(id='productTitle').get_text()\n",
    "    title = title.strip()\n",
    "    print(title)\n",
    "\n",
    "    price_element = soup2.find(\"span\", class_=\"a-offscreen\")\n",
    "    price = price_element.text.strip()[1:]\n",
    "    print(price)\n",
    "\n",
    "    rating = soup2.find(id='acrCustomerReviewText').get_text()\n",
    "    rating = rating.strip()[:6]\n",
    "    print(rating)\n",
    "    \n",
    "    import datetime\n",
    "    today = datetime.date.today()\n",
    "    \n",
    "    import csv \n",
    "    header = ['Title','Price', 'Rating', 'Date']\n",
    "    data = [title, price, rating, today]\n",
    "\n",
    "    with open('AmazonWebScraperDataset.csv', 'a+', newline='', encoding='UTF8') as f:\n",
    "        writer = csv.writer(f)\n",
    "        writer.writerow(data)\n",
    "        \n",
    "    if(price < 30):\n",
    "        send_mail()\n",
    "        "
   ]
  },
  {
   "cell_type": "code",
   "execution_count": 3,
   "id": "a09136a2",
   "metadata": {},
   "outputs": [
    {
     "name": "stdout",
     "output_type": "stream",
     "text": [
      "Echo Dot (5th generation, 2022 release) smart Bluetooth speaker with Alexa | Charcoal\n",
      "34.99\n",
      "10,447\n",
      "Echo Dot (5th generation, 2022 release) smart Bluetooth speaker with Alexa | Charcoal\n",
      "34.99\n",
      "10,447\n",
      "Echo Dot (5th generation, 2022 release) smart Bluetooth speaker with Alexa | Charcoal\n",
      "34.99\n",
      "10,447\n",
      "Echo Dot (5th generation, 2022 release) smart Bluetooth speaker with Alexa | Charcoal\n",
      "34.99\n",
      "10,447\n"
     ]
    },
    {
     "ename": "KeyboardInterrupt",
     "evalue": "",
     "output_type": "error",
     "traceback": [
      "\u001b[1;31m---------------------------------------------------------------------------\u001b[0m",
      "\u001b[1;31mKeyboardInterrupt\u001b[0m                         Traceback (most recent call last)",
      "Input \u001b[1;32mIn [3]\u001b[0m, in \u001b[0;36m<cell line: 4>\u001b[1;34m()\u001b[0m\n\u001b[0;32m      3\u001b[0m \u001b[38;5;28;01mwhile\u001b[39;00m(\u001b[38;5;28;01mTrue\u001b[39;00m):\n\u001b[0;32m      4\u001b[0m     check_price()\n\u001b[1;32m----> 5\u001b[0m     \u001b[43mtime\u001b[49m\u001b[38;5;241;43m.\u001b[39;49m\u001b[43msleep\u001b[49m\u001b[43m(\u001b[49m\u001b[38;5;241;43m5\u001b[39;49m\u001b[43m)\u001b[49m\n",
      "\u001b[1;31mKeyboardInterrupt\u001b[0m: "
     ]
    }
   ],
   "source": [
    "# Runs check_price after a set time and inputs data into your CSV\n",
    "\n",
    "while(True):\n",
    "    check_price()\n",
    "    time.sleep(86400)"
   ]
  },
  {
   "cell_type": "code",
   "execution_count": 4,
   "id": "dc14b231",
   "metadata": {},
   "outputs": [
    {
     "name": "stdout",
     "output_type": "stream",
     "text": [
      "                                                                                   Title  Price  Rating        Date\n",
      "0  Echo Dot (5th generation, 2022 release) smart Bluetooth speaker with Alexa | Charcoal  34.99  10,447  2023-06-02\n",
      "1  Echo Dot (5th generation, 2022 release) smart Bluetooth speaker with Alexa | Charcoal  34.99  10,447  2023-06-02\n",
      "2  Echo Dot (5th generation, 2022 release) smart Bluetooth speaker with Alexa | Charcoal  34.99  10,447  2023-06-02\n",
      "3  Echo Dot (5th generation, 2022 release) smart Bluetooth speaker with Alexa | Charcoal  34.99  10,447  2023-06-02\n",
      "4  Echo Dot (5th generation, 2022 release) smart Bluetooth speaker with Alexa | Charcoal  34.99  10,447  2023-06-02\n",
      "5  Echo Dot (5th generation, 2022 release) smart Bluetooth speaker with Alexa | Charcoal  34.99  10,447  2023-06-02\n",
      "6  Echo Dot (5th generation, 2022 release) smart Bluetooth speaker with Alexa | Charcoal  34.99  10,447  2023-06-02\n"
     ]
    }
   ],
   "source": [
    "import pandas as pd\n",
    "\n",
    "dataframe = pd.read_csv(r'C:\\Users\\Tanvi\\Desktop\\Project\\AmazonWebScraperDataset.csv')\n",
    "\n",
    "pd.set_option('display.max_columns', None)  # Display all columns\n",
    "pd.set_option('display.expand_frame_repr', False)  # Display DataFrame without line wrapping\n",
    "pd.set_option('display.max_colwidth', None)  # Display full contents of each cell\n",
    "\n",
    "\n",
    "print(dataframe)"
   ]
  },
  {
   "cell_type": "code",
   "execution_count": null,
   "id": "f94d1247",
   "metadata": {},
   "outputs": [],
   "source": [
    "# If uou want to try sending yourself an email (just for fun) when a price hits below a certain level you can try it\n",
    "# out with this script\n",
    "\n",
    "def send_mail():\n",
    "    server = smtplib.SMTP_SSL('smtp.gmail.com',465)\n",
    "    server.ehlo()\n",
    "    #server.starttls()\n",
    "    server.ehlo()\n",
    "    server.login('tmathur760@gmail.com','xxxxxxxxxxxxxx')\n",
    "    \n",
    "    subject = \"The Echo Dot  you want is below £30! Now is your chance to buy!\"\n",
    "    body = \"Alex, This is the moment we have been waiting for. Now is your chance to pick up the shirt of your dreams. Don't mess it up! Link here: https://www.amazon.com/Funny-Data-Systems-Business-Analyst/dp/B07FNW9FGJ/ref=sr_1_3?dchild=1&keywords=data+analyst+tshirt&qid=1626655184&sr=8-3\"\n",
    "   \n",
    "    msg = f\"Subject: {subject}\\n\\n{body}\"\n",
    "    \n",
    "    server.sendmail(\n",
    "        'tmathur760@gmail.com',\n",
    "        msg    \n",
    "    )"
   ]
  }
 ],
 "metadata": {
  "kernelspec": {
   "display_name": "Python 3 (ipykernel)",
   "language": "python",
   "name": "python3"
  },
  "language_info": {
   "codemirror_mode": {
    "name": "ipython",
    "version": 3
   },
   "file_extension": ".py",
   "mimetype": "text/x-python",
   "name": "python",
   "nbconvert_exporter": "python",
   "pygments_lexer": "ipython3",
   "version": "3.9.12"
  }
 },
 "nbformat": 4,
 "nbformat_minor": 5
}
